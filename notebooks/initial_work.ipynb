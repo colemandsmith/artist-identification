{
 "cells": [
  {
   "cell_type": "markdown",
   "metadata": {},
   "source": [
    "My first run through this experimentation will be following the model from the paper [Artist Identification with Convulutional Neural Networks](http://cs231n.stanford.edu/reports/2017/pdfs/406.pdf), and working with the [same dataset from Kaggle](https://www.kaggle.com/c/painter-by-numbers). I will initially only be working with a subset of the dataset, train_1.zip, partly due to my ISP's data caps and my current computer setup. In the following month I hope to be able to download more of the data set. I will be using PyTorch for my neural network(s)."
   ]
  },
  {
   "cell_type": "code",
   "execution_count": 33,
   "metadata": {},
   "outputs": [],
   "source": [
    "%matplotlib inline"
   ]
  },
  {
   "cell_type": "code",
   "execution_count": 4,
   "metadata": {},
   "outputs": [],
   "source": [
    "import csv\n",
    "import os\n",
    "from os.path import expanduser\n",
    "\n",
    "#trim the irrelevant files; make a csv of our subset of the data\n",
    "data_dir = expanduser(\"~\") +\"/Data/\"\n",
    "all_artist_data = data_dir + \"all_artist_data.csv\"\n",
    "train1_csv = data_dir + \"artist_train1.csv\"\n",
    "artist_train = data_dir + \"artist_train1\"\n",
    "\n",
    "with open(train1_csv, \"w\") as to_write, open(all_artist_data) as to_read:\n",
    "    files = set(os.listdir(artist_train))\n",
    "    writer = csv.writer(to_write, delimiter=\",\",quotechar='\\\"')\n",
    "\n",
    "    reader = csv.reader(to_read, quotechar='\\\"')\n",
    "    header = next(reader)\n",
    "    writer.writerow(header)\n",
    "    for row in reader:\n",
    "        if row[-1] in files:\n",
    "            writer.writerow(row)"
   ]
  },
  {
   "cell_type": "code",
   "execution_count": 5,
   "metadata": {},
   "outputs": [],
   "source": [
    "art_map = {}\n",
    "\n",
    "with open(train1_csv, \"r\", encoding=\"utf8\") as csvfile:\n",
    "    reader = csv.reader(csvfile, quotechar='\\\"')\n",
    "    header = next(reader)\n",
    "    for row in reader:\n",
    "        art_map[row[-1]] = row[0]\n",
    "        \n"
   ]
  },
  {
   "cell_type": "code",
   "execution_count": 6,
   "metadata": {},
   "outputs": [
    {
     "name": "stdout",
     "output_type": "stream",
     "text": [
      "BaslineCNN(\n",
      "  (conv1): Conv2d(3, 32, kernel_size=(3, 3), stride=(2, 2), padding=(1, 1))\n",
      "  (conv2): Conv2d(32, 56, kernel_size=(3, 3), stride=(2, 2), padding=(1, 1))\n",
      "  (fc1): Linear(in_features=1, out_features=6272, bias=True)\n",
      "  (fc2): Linear(in_features=2, out_features=228, bias=True)\n",
      ")\n"
     ]
    }
   ],
   "source": [
    "import torch\n",
    "import torch.nn as nn\n",
    "import torch.nn.functional as F\n",
    "\n",
    "class BaslineCNN(nn.Module):\n",
    "    \n",
    "    def __init__(self):\n",
    "        super(BaslineCNN, self).__init__()\n",
    "        # 3 input image channels, 224 output channels, 5x5 square convolution\n",
    "        # kernel\n",
    "        self.conv1 = nn.Conv2d(3,32,3, stride=2, padding=1)\n",
    "        self.conv2 = nn.Conv2d(32,56,3, stride=2, padding=1)\n",
    "        # an affine operation: y = Wx + b\n",
    "        self.fc1 = nn.Linear(1, 6272)\n",
    "        self.fc2 = nn.Linear(2, 228)\n",
    "    \n",
    "    def forward(self, x):\n",
    "        x = F.max_pool2d(F.relu(self.conv1(x)), (2, 2))\n",
    "        x = F.max_pool2d(F.relu(self.conv2(x)), 2)\n",
    "        x = x.view(-1, self.num_flat_features(x))\n",
    "        x = F.relu(self.fc1(x))\n",
    "        x = F.relu(self.fc2(x))\n",
    "        x = self.fc3(x)\n",
    "        \n",
    "        return x\n",
    "        \n",
    "    def num_flat_features(self, x):\n",
    "        size = x.size()[1:]\n",
    "        num_features = 1\n",
    "        for s in size:\n",
    "            num_features *= s\n",
    "        return num_features\n",
    "    \n",
    "net = BaslineCNN()\n",
    "print(net)\n",
    "    \n",
    "    "
   ]
  },
  {
   "cell_type": "code",
   "execution_count": 8,
   "metadata": {},
   "outputs": [],
   "source": [
    "import pandas as pd\n",
    "import torch.utils.data\n",
    "import torchvision.transforms as transforms\n",
    "\n",
    "transform = transforms.Compose(\n",
    "    [transforms.ToTensor(),\n",
    "     transforms.Normalize((0.5, 0.5, 0.5), (0.5, 0.5, 0.5))]\n",
    ")\n",
    "\n",
    "data_dir = expanduser(\"~\") +\"/Data/\"\n",
    "all_artist_data = data_dir + \"all_artist_data.csv\"\n",
    "artist_train = data_dir + \"artist_train1\"\n",
    "\n",
    "# custom loading solution found on StackOverflow:\n",
    "# https://stackoverflow.com/questions/50052295/how-do-you-load-images-into-pytorch-dataloader\n",
    "\n",
    "class ArtistImageDataset(torch.utils.data.Dataset):\n",
    "    def __init__(self,text_file,img_dir,transform=transform):\n",
    "        self.name_frame = pd.read_csv(text_file,sep=\",\",usecols=range(11,12))\n",
    "        self.label_frame = pd.read_csv(text_file,sep=\",\",usecols=range(1))\n",
    "        self.img_dir = img_dir\n",
    "        self.transform = transform\n",
    "\n",
    "    def __len__(self):\n",
    "        return len(self.name_frame)\n",
    "\n",
    "    def __getitem__(self, index):\n",
    "        img_name = os.path.join(self.img_dir, self.name_frame.iloc[index, 0])\n",
    "        image = Image.open(img_name)\n",
    "        image = self.transform(image)\n",
    "        labels = self.label_frame.iloc[index, 0]\n",
    "        #labels = labels.reshape(-1, 2)\n",
    "        sample = {'image': image, 'labels': labels}\n",
    "\n",
    "        return sample\n",
    "    \n",
    "def collate_images(batch):\n",
    "    return None\n",
    "    \n",
    "artistImageTrainSet = ArtistImageDataset(text_file=train1_csv, img_dir = artist_train)\n",
    "\n",
    "artistTrainLoader = torch.utils.data.DataLoader(artistImageTrainSet, batch_size=16, shuffle=True, num_workers=2)"
   ]
  },
  {
   "cell_type": "code",
   "execution_count": null,
   "metadata": {},
   "outputs": [],
   "source": []
  },
  {
   "cell_type": "code",
   "execution_count": null,
   "metadata": {},
   "outputs": [],
   "source": []
  }
 ],
 "metadata": {
  "kernelspec": {
   "display_name": "Python 3",
   "language": "python",
   "name": "python3"
  },
  "language_info": {
   "codemirror_mode": {
    "name": "ipython",
    "version": 3
   },
   "file_extension": ".py",
   "mimetype": "text/x-python",
   "name": "python",
   "nbconvert_exporter": "python",
   "pygments_lexer": "ipython3",
   "version": "3.6.5"
  }
 },
 "nbformat": 4,
 "nbformat_minor": 2
}
