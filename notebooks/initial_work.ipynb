{
 "cells": [
  {
   "cell_type": "markdown",
   "metadata": {},
   "source": [
    "My first run through this experimentation will be following the model from the paper [Artist Identification with Convulutional Neural Networks](http://cs231n.stanford.edu/reports/2017/pdfs/406.pdf), and working with the [same dataset from Kaggle](https://www.kaggle.com/c/painter-by-numbers). I will initially only be working with a subset of the dataset, train_1.zip, partly due to my ISP's data caps and my current computer setup. In the following month I hope to be able to download more of the data set. I will be using PyTorch for my neural network(s).\n",
    "\n",
    "UPDATE 06/30/18: I have decided to download the full dataset"
   ]
  },
  {
   "cell_type": "markdown",
   "metadata": {},
   "source": [
    "In process.py we processed out all of the artists with less than 300 paintings in the dataset so as to ensure that there are sufficient samples for each artist to train on and learn from."
   ]
  },
  {
   "cell_type": "code",
   "execution_count": 1,
   "metadata": {},
   "outputs": [],
   "source": [
    "%matplotlib inline"
   ]
  },
  {
   "cell_type": "code",
   "execution_count": 1,
   "metadata": {},
   "outputs": [
    {
     "name": "stdout",
     "output_type": "stream",
     "text": [
      "BaslineCNN(\n",
      "  (conv1): Conv2d(3, 64, kernel_size=(3, 3), stride=(2, 2), padding=(1, 1))\n",
      "  (pool): MaxPool2d(kernel_size=2, stride=2, padding=0, dilation=1, ceil_mode=False)\n",
      "  (conv2): Conv2d(64, 32, kernel_size=(3, 3), stride=(2, 2), padding=(1, 1))\n",
      "  (fc1): Linear(in_features=6272, out_features=228, bias=True)\n",
      "  (fc2): Linear(in_features=228, out_features=38, bias=True)\n",
      ")\n"
     ]
    }
   ],
   "source": [
    "import torch\n",
    "import torch.nn as nn\n",
    "import torch.nn.functional as F\n",
    "import common_utils\n",
    "\n",
    "class BaslineCNN(nn.Module):\n",
    "    \n",
    "    def __init__(self):\n",
    "        super(BaslineCNN, self).__init__()\n",
    "        # 3 input channels, 64 output channels, 3x3 square convolution kernel\n",
    "        self.conv1 = nn.Conv2d(3,64,3, stride=2, padding=1)\n",
    "        self.pool = nn.MaxPool2d(2)\n",
    "        self.conv2 = nn.Conv2d(64,32,3, stride=2, padding=1)\n",
    "        self.fc1 = nn.Linear(6272,228)\n",
    "        self.fc2 = nn.Linear(228,common_utils.get_num_artists())\n",
    "        \n",
    "        # set decent weight initializations for relu / batch norm\n",
    "        for m in self.modules():\n",
    "            if isinstance(m, nn.Conv2d):\n",
    "                nn.init.kaiming_normal_(m.weight,nonlinearity='relu')\n",
    "            elif isinstance(m, nn.BatchNorm2d):\n",
    "                nn.init.constant_(m.weight, 1)\n",
    "                nn.init.constant_(m.bias, 0)\n",
    "    \n",
    "    def forward(self, x):\n",
    "        x = self.pool(F.relu(self.conv1(x)))\n",
    "        x = self.pool(F.relu(self.conv2(x)))\n",
    "        x = x.view(-1, 6272)\n",
    "        x = F.relu(self.fc1(x))\n",
    "        x = self.fc2(x)\n",
    "        return x\n",
    "        \n",
    "net = BaslineCNN()\n",
    "    \n",
    "print(net)"
   ]
  },
  {
   "cell_type": "code",
   "execution_count": 2,
   "metadata": {},
   "outputs": [],
   "source": [
    "train, test, val = common_utils.get_dataloaders()"
   ]
  },
  {
   "cell_type": "code",
   "execution_count": 4,
   "metadata": {},
   "outputs": [
    {
     "name": "stdout",
     "output_type": "stream",
     "text": [
      "[1,    50] loss: 0.890\n",
      "[1,    50] test accuracy: 6.643\n",
      "[1,   100] loss: 0.864\n",
      "[1,   100] test accuracy: 8.714\n",
      "[1,   150] loss: 0.832\n",
      "[1,   150] test accuracy: 12.214\n",
      "[2,    50] loss: 0.808\n",
      "[2,    50] test accuracy: 13.500\n",
      "[2,   100] loss: 0.800\n",
      "[2,   100] test accuracy: 15.071\n",
      "[2,   150] loss: 0.785\n",
      "[2,   150] test accuracy: 14.214\n",
      "[3,    50] loss: 0.775\n",
      "[3,    50] test accuracy: 13.786\n",
      "[3,   100] loss: 0.768\n",
      "[3,   100] test accuracy: 16.714\n",
      "[3,   150] loss: 0.753\n",
      "[3,   150] test accuracy: 16.786\n",
      "[4,    50] loss: 0.739\n",
      "[4,    50] test accuracy: 17.071\n",
      "[4,   100] loss: 0.759\n",
      "[4,   100] test accuracy: 17.714\n",
      "[4,   150] loss: 0.734\n",
      "[4,   150] test accuracy: 19.357\n",
      "[5,    50] loss: 0.734\n",
      "[5,    50] test accuracy: 19.214\n",
      "[5,   100] loss: 0.726\n",
      "[5,   100] test accuracy: 19.786\n",
      "[5,   150] loss: 0.727\n",
      "[5,   150] test accuracy: 20.643\n",
      "[6,    50] loss: 0.719\n",
      "[6,    50] test accuracy: 20.214\n",
      "[6,   100] loss: 0.719\n",
      "[6,   100] test accuracy: 20.500\n",
      "[6,   150] loss: 0.702\n",
      "[6,   150] test accuracy: 19.929\n",
      "[7,    50] loss: 0.705\n",
      "[7,    50] test accuracy: 22.214\n",
      "[7,   100] loss: 0.701\n",
      "[7,   100] test accuracy: 21.357\n",
      "[7,   150] loss: 0.700\n",
      "[7,   150] test accuracy: 20.071\n",
      "[8,    50] loss: 0.697\n",
      "[8,    50] test accuracy: 21.000\n",
      "[8,   100] loss: 0.689\n",
      "[8,   100] test accuracy: 21.571\n",
      "[8,   150] loss: 0.697\n",
      "[8,   150] test accuracy: 21.929\n",
      "[9,    50] loss: 0.703\n",
      "[9,    50] test accuracy: 23.357\n",
      "[9,   100] loss: 0.695\n",
      "[9,   100] test accuracy: 23.000\n",
      "[9,   150] loss: 0.680\n",
      "[9,   150] test accuracy: 23.786\n",
      "[10,    50] loss: 0.671\n",
      "[10,    50] test accuracy: 21.571\n",
      "[10,   100] loss: 0.676\n",
      "[10,   100] test accuracy: 24.071\n",
      "[10,   150] loss: 0.678\n",
      "[10,   150] test accuracy: 23.786\n",
      "done\n"
     ]
    },
    {
     "data": {
      "image/png": "[encoded data removed]",
      "text/plain": [
       "<Figure size 432x288 with 1 Axes>"
      ]
     },
     "metadata": {},
     "output_type": "display_data"
    }
   ],
   "source": [
    "import torch.optim as optim\n",
    "import matplotlib.pyplot as plt\n",
    "\n",
    "#make sure we do things on the gpu\n",
    "net.cuda()\n",
    "\n",
    "criterion = nn.CrossEntropyLoss()\n",
    "optimizer = optim.Adam(net.parameters(), lr = 0.001)\n",
    "\n",
    "\n",
    "test_acc = []\n",
    "iterations = []\n",
    "train_len = len(train)\n",
    "\n",
    "for epoch in range(10):\n",
    "    \n",
    "    running_loss = 0\n",
    "    \n",
    "    for i, sample in enumerate(train):\n",
    "        images, labels = sample['images'].cuda(), sample['labels'].cuda()\n",
    "        optimizer.zero_grad()\n",
    "        outputs = net(images)\n",
    "        loss = criterion(outputs, labels)\n",
    "        loss.backward()\n",
    "        optimizer.step()\n",
    "        running_loss += loss.item()\n",
    "        if i % 50 == 49:\n",
    "            print('[%d, %5d] loss: %.3f' %\n",
    "                  (epoch + 1, i + 1, running_loss / 200))\n",
    "            running_loss = 0.0\n",
    "            with torch.no_grad():\n",
    "                total = 0\n",
    "                correct = 0\n",
    "                for sample in test:\n",
    "                    images,labels = sample['images'].cuda(), sample['labels'].cuda()\n",
    "                    outputs = net(images)\n",
    "                    _, predicted = torch.max(outputs.data, 1)\n",
    "                    total += labels.size(0)\n",
    "                    correct += (predicted == labels).sum().item()\n",
    "                test_acc.append(100*correct/total)\n",
    "                iterations.append((i+1) + (train_len * epoch))\n",
    "                print(\"[%d, %5d] test accuracy: %.3f\" % (epoch + 1, i + 1, 100*correct/total))\n",
    "                    \n",
    "print('done')\n",
    "\n",
    "plt.plot(iterations, test_acc)\n",
    "plt.xlabel('number of iterations')\n",
    "plt.ylabel('percent accuracy')\n",
    "plt.show()"
   ]
  },
  {
   "cell_type": "markdown",
   "metadata": {},
   "source": [
    "Now let's run this model against our test dataset"
   ]
  },
  {
   "cell_type": "code",
   "execution_count": 5,
   "metadata": {},
   "outputs": [
    {
     "name": "stdout",
     "output_type": "stream",
     "text": [
      "Accuracy of the network on the 1400 validation images: 23.29\n"
     ]
    }
   ],
   "source": [
    "correct = 0\n",
    "total = 0\n",
    "# no grad because we don't want our model to update during testing\n",
    "with torch.no_grad():\n",
    "    for sample in val:\n",
    "        images,labels = sample['images'].cuda(), sample['labels'].cuda()\n",
    "        outputs = net(images)\n",
    "        _, predicted = torch.max(outputs.data, 1)\n",
    "        total += labels.size(0)\n",
    "        correct += (predicted == labels).sum().item()\n",
    "        \n",
    "print('Accuracy of the network on the 1400 validation images: {0:.2f}'.format(100 * correct/total))"
   ]
  },
  {
   "cell_type": "markdown",
   "metadata": {},
   "source": [
    "Now I want to try adding in batch normalization layers to see the effects."
   ]
  },
  {
   "cell_type": "code",
   "execution_count": 1,
   "metadata": {},
   "outputs": [
    {
     "name": "stdout",
     "output_type": "stream",
     "text": [
      "BaslineCNNWithBatchNorm(\n",
      "  (conv1): Conv2d(3, 64, kernel_size=(3, 3), stride=(2, 2), padding=(1, 1))\n",
      "  (pool): MaxPool2d(kernel_size=2, stride=2, padding=0, dilation=1, ceil_mode=False)\n",
      "  (conv2): Conv2d(64, 32, kernel_size=(3, 3), stride=(2, 2), padding=(1, 1))\n",
      "  (conv2_bnorm): BatchNorm2d(32, eps=1e-05, momentum=0.1, affine=True, track_running_stats=True)\n",
      "  (fc1): Linear(in_features=6272, out_features=228, bias=True)\n",
      "  (fc1_bnorm): BatchNorm1d(228, eps=1e-05, momentum=0.1, affine=True, track_running_stats=True)\n",
      "  (fc2): Linear(in_features=228, out_features=38, bias=True)\n",
      ")\n"
     ]
    }
   ],
   "source": [
    "import torch\n",
    "import torch.nn as nn\n",
    "import torch.nn.functional as F\n",
    "import common_utils\n",
    "\n",
    "class BaslineCNNWithBatchNorm(nn.Module):\n",
    "    \n",
    "    def __init__(self):\n",
    "        super(BaslineCNNWithBatchNorm, self).__init__()\n",
    "        # 3 input channels, 64 output channels, 3x3 square convolution kernel\n",
    "        self.conv1 = nn.Conv2d(3,64,3, stride=2, padding=1)\n",
    "        self.pool = nn.MaxPool2d(2)\n",
    "        self.conv2 = nn.Conv2d(64,32,3, stride=2, padding=1)\n",
    "        self.conv2_bnorm = nn.BatchNorm2d(32)\n",
    "        self.fc1 = nn.Linear(6272,228)\n",
    "        self.fc1_bnorm = nn.BatchNorm1d(228)\n",
    "        self.fc2 = nn.Linear(228,common_utils.get_num_artists())\n",
    "        \n",
    "        # set decent weight initializations for relu / batch norm\n",
    "        for m in self.modules():\n",
    "            if isinstance(m, nn.Conv2d):\n",
    "                nn.init.kaiming_normal_(m.weight,nonlinearity='relu')\n",
    "            elif isinstance(m, nn.BatchNorm2d):\n",
    "                nn.init.constant_(m.weight, 1)\n",
    "                nn.init.constant_(m.bias, 0)\n",
    "    \n",
    "    def forward(self, x):\n",
    "        x = self.pool(F.relu(self.conv1(x)))\n",
    "        x = self.pool(F.relu(self.conv2_bnorm(self.conv2(x))))\n",
    "        x = x.view(-1, 6272)\n",
    "        x = F.relu(self.fc1_bnorm(self.fc1(x)))\n",
    "        x = self.fc2(x)\n",
    "        return x        \n",
    "\n",
    "net = BaslineCNNWithBatchNorm()\n",
    "    \n",
    "print(net)"
   ]
  },
  {
   "cell_type": "code",
   "execution_count": 2,
   "metadata": {},
   "outputs": [],
   "source": [
    "train, test, val = common_utils.get_dataloaders()"
   ]
  },
  {
   "cell_type": "code",
   "execution_count": 3,
   "metadata": {},
   "outputs": [
    {
     "name": "stdout",
     "output_type": "stream",
     "text": [
      "[1,    80] loss: 3.346\n",
      "[1,    80] test accuracy: 13.071\n",
      "[1,   160] loss: 3.119\n",
      "[1,   160] test accuracy: 16.643\n",
      "[2,    80] loss: 2.993\n",
      "[2,    80] test accuracy: 18.000\n",
      "[2,   160] loss: 2.887\n",
      "[2,   160] test accuracy: 20.286\n",
      "[3,    80] loss: 2.849\n",
      "[3,    80] test accuracy: 21.714\n",
      "[3,   160] loss: 2.793\n",
      "[3,   160] test accuracy: 22.143\n",
      "[4,    80] loss: 2.757\n",
      "[4,    80] test accuracy: 24.571\n",
      "[4,   160] loss: 2.713\n",
      "[4,   160] test accuracy: 26.429\n",
      "[5,    80] loss: 2.686\n",
      "[5,    80] test accuracy: 27.286\n",
      "[5,   160] loss: 2.628\n",
      "[5,   160] test accuracy: 27.000\n",
      "[6,    80] loss: 2.627\n",
      "[6,    80] test accuracy: 27.786\n",
      "[6,   160] loss: 2.574\n",
      "[6,   160] test accuracy: 29.929\n",
      "[7,    80] loss: 2.564\n",
      "[7,    80] test accuracy: 29.571\n",
      "[7,   160] loss: 2.509\n",
      "[7,   160] test accuracy: 29.071\n",
      "[8,    80] loss: 2.569\n",
      "[8,    80] test accuracy: 32.286\n",
      "[8,   160] loss: 2.463\n",
      "[8,   160] test accuracy: 29.857\n",
      "[9,    80] loss: 2.466\n",
      "[9,    80] test accuracy: 32.143\n",
      "[9,   160] loss: 2.474\n",
      "[9,   160] test accuracy: 32.500\n",
      "[10,    80] loss: 2.455\n",
      "[10,    80] test accuracy: 32.357\n",
      "[10,   160] loss: 2.397\n",
      "[10,   160] test accuracy: 33.857\n",
      "[11,    80] loss: 2.415\n",
      "[11,    80] test accuracy: 34.286\n",
      "[11,   160] loss: 2.374\n",
      "[11,   160] test accuracy: 34.429\n",
      "[12,    80] loss: 2.417\n",
      "[12,    80] test accuracy: 33.786\n",
      "[12,   160] loss: 2.342\n",
      "[12,   160] test accuracy: 31.857\n",
      "[13,    80] loss: 2.383\n",
      "[13,    80] test accuracy: 34.429\n",
      "[13,   160] loss: 2.299\n",
      "[13,   160] test accuracy: 36.000\n",
      "[14,    80] loss: 2.346\n",
      "[14,    80] test accuracy: 34.500\n",
      "[14,   160] loss: 2.308\n",
      "[14,   160] test accuracy: 36.357\n",
      "[15,    80] loss: 2.309\n",
      "[15,    80] test accuracy: 36.571\n",
      "[15,   160] loss: 2.243\n",
      "[15,   160] test accuracy: 34.643\n",
      "[16,    80] loss: 2.281\n",
      "[16,    80] test accuracy: 35.429\n",
      "[16,   160] loss: 2.248\n",
      "[16,   160] test accuracy: 37.214\n",
      "[17,    80] loss: 2.238\n",
      "[17,    80] test accuracy: 36.214\n",
      "[17,   160] loss: 2.217\n",
      "[17,   160] test accuracy: 35.214\n",
      "[18,    80] loss: 2.204\n",
      "[18,    80] test accuracy: 37.714\n",
      "[18,   160] loss: 2.189\n",
      "[18,   160] test accuracy: 37.571\n",
      "[19,    80] loss: 2.188\n",
      "[19,    80] test accuracy: 38.071\n",
      "[19,   160] loss: 2.181\n",
      "[19,   160] test accuracy: 37.857\n",
      "[20,    80] loss: 2.192\n",
      "[20,    80] test accuracy: 36.929\n",
      "[20,   160] loss: 2.149\n",
      "[20,   160] test accuracy: 39.214\n",
      "done\n"
     ]
    },
    {
     "data": {
      "image/png": "[encoded data removed]",
      "text/plain": [
       "<Figure size 432x288 with 1 Axes>"
      ]
     },
     "metadata": {},
     "output_type": "display_data"
    }
   ],
   "source": [
    "import torch.optim as optim\n",
    "import matplotlib.pyplot as plt\n",
    "\n",
    "#make sure we do things on the gpu\n",
    "net.cuda()\n",
    "\n",
    "#perform initializations better turned to ReLU neurons\n",
    "\n",
    "\n",
    "criterion = nn.CrossEntropyLoss()\n",
    "optimizer = optim.Adam(net.parameters(), lr = 0.001)\n",
    "\n",
    "\n",
    "test_acc = []\n",
    "iterations = []\n",
    "train_len = len(train)\n",
    "\n",
    "for epoch in range(20):\n",
    "    \n",
    "    running_loss = 0\n",
    "    \n",
    "    for i, sample in enumerate(train):\n",
    "        images, labels = sample['images'].cuda(), sample['labels'].cuda()\n",
    "        optimizer.zero_grad()\n",
    "        outputs = net(images)\n",
    "        loss = criterion(outputs, labels)\n",
    "        loss.backward()\n",
    "        optimizer.step()\n",
    "        running_loss += loss.item()\n",
    "        if i % 80 == 79:\n",
    "            print('[%d, %5d] loss: %.3f' %\n",
    "                  (epoch + 1, i + 1, running_loss / 80))\n",
    "            running_loss = 0.0\n",
    "            with torch.no_grad():\n",
    "                total = 0\n",
    "                correct = 0\n",
    "                for sample in test:\n",
    "                    images,labels = sample['images'].cuda(), sample['labels'].cuda()\n",
    "                    outputs = net(images)\n",
    "                    _, predicted = torch.max(outputs.data, 1)\n",
    "                    total += labels.size(0)\n",
    "                    correct += (predicted == labels).sum().item()\n",
    "                test_acc.append(100*correct/total)\n",
    "                iterations.append((i+1) + (train_len * epoch))\n",
    "                print(\"[%d, %5d] test accuracy: %.3f\" % (epoch + 1, i + 1, 100*correct/total))\n",
    "                    \n",
    "print('done')\n",
    "\n",
    "plt.plot(iterations, test_acc)\n",
    "plt.xlabel('number of iterations')\n",
    "plt.ylabel('percent accuracy')\n",
    "plt.show()"
   ]
  },
  {
   "cell_type": "code",
   "execution_count": 4,
   "metadata": {},
   "outputs": [
    {
     "name": "stdout",
     "output_type": "stream",
     "text": [
      "Accuracy of the network on the 1400 validation images: 37.43\n"
     ]
    }
   ],
   "source": [
    "correct = 0\n",
    "total = 0\n",
    "# no grad because we don't want our model to update during testing\n",
    "with torch.no_grad():\n",
    "    for sample in val:\n",
    "        images,labels = sample['images'].cuda(), sample['labels'].cuda()\n",
    "        outputs = net(images)\n",
    "        _, predicted = torch.max(outputs.data, 1)\n",
    "        total += labels.size(0)\n",
    "        correct += (predicted == labels).sum().item()\n",
    "        \n",
    "print('Accuracy of the network on the 1400 validation images: {0:.2f}'.format(100 * correct/total))"
   ]
  },
  {
   "cell_type": "markdown",
   "metadata": {},
   "source": [
    "For a very basic CNN, I think I'm pretty happy with that for now."
   ]
  },
  {
   "cell_type": "code",
   "execution_count": null,
   "metadata": {},
   "outputs": [],
   "source": []
  }
 ],
 "metadata": {
  "kernelspec": {
   "display_name": "Python 3",
   "language": "python",
   "name": "python3"
  },
  "language_info": {
   "codemirror_mode": {
    "name": "ipython",
    "version": 3
   },
   "file_extension": ".py",
   "mimetype": "text/x-python",
   "name": "python",
   "nbconvert_exporter": "python",
   "pygments_lexer": "ipython3",
   "version": "3.6.5"
  }
 },
 "nbformat": 4,
 "nbformat_minor": 2
}
